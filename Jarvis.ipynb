{
 "cells": [
  {
   "cell_type": "code",
   "execution_count": 14,
   "id": "16cee4e4",
   "metadata": {},
   "outputs": [
    {
     "name": "stdout",
     "output_type": "stream",
     "text": [
      "Collecting SpeechRecognition-ForkedVersion\n",
      "  Using cached SpeechRecognition_ForkedVersion-3.9.2-py2.py3-none-any.whl (32.8 MB)\n",
      "Installing collected packages: SpeechRecognition-ForkedVersion\n",
      "Successfully installed SpeechRecognition-ForkedVersion-3.9.2\n",
      "Note: you may need to restart the kernel to use updated packages.\n"
     ]
    }
   ],
   "source": [
    "#pip install SpeechRecognition-ForkedVersion\n"
   ]
  },
  {
   "cell_type": "code",
   "execution_count": 1,
   "id": "e22bfd1b",
   "metadata": {},
   "outputs": [],
   "source": [
    "#importando bliblioteca de fala\n",
    "import speech_recognition as sr"
   ]
  },
  {
   "cell_type": "code",
   "execution_count": 17,
   "id": "9134713f",
   "metadata": {},
   "outputs": [
    {
     "name": "stdout",
     "output_type": "stream",
     "text": [
      "Collecting pyttsx3\n",
      "  Downloading pyttsx3-2.90-py3-none-any.whl (39 kB)\n",
      "Requirement already satisfied: comtypes in c:\\users\\vinic\\anaconda3\\lib\\site-packages (from pyttsx3) (1.1.10)\n",
      "Requirement already satisfied: pywin32 in c:\\users\\vinic\\anaconda3\\lib\\site-packages (from pyttsx3) (302)\n",
      "Collecting pypiwin32\n",
      "  Downloading pypiwin32-223-py3-none-any.whl (1.7 kB)\n",
      "Installing collected packages: pypiwin32, pyttsx3\n",
      "Successfully installed pypiwin32-223 pyttsx3-2.90\n",
      "Note: you may need to restart the kernel to use updated packages.\n"
     ]
    }
   ],
   "source": [
    "# is a text-to-speech conversion library in Python.\n",
    "#pip install pyttsx3"
   ]
  },
  {
   "cell_type": "code",
   "execution_count": 18,
   "id": "65040395",
   "metadata": {},
   "outputs": [
    {
     "name": "stdout",
     "output_type": "stream",
     "text": [
      "Collecting PyAudio\n",
      "  Downloading PyAudio-0.2.12-cp39-cp39-win_amd64.whl (163 kB)\n",
      "Installing collected packages: PyAudio\n",
      "Successfully installed PyAudio-0.2.12\n",
      "Note: you may need to restart the kernel to use updated packages.\n"
     ]
    }
   ],
   "source": [
    "#bliblioteca do python para audio, para ouvir e gravar.\n",
    "#pip install PyAudio"
   ]
  },
  {
   "cell_type": "code",
   "execution_count": 2,
   "id": "2ece514b",
   "metadata": {},
   "outputs": [],
   "source": [
    "import pyttsx3\n"
   ]
  },
  {
   "cell_type": "code",
   "execution_count": 21,
   "id": "a5f9f4ce",
   "metadata": {},
   "outputs": [
    {
     "name": "stdout",
     "output_type": "stream",
     "text": [
      "Collecting wikipedia\n",
      "  Downloading wikipedia-1.4.0.tar.gz (27 kB)\n",
      "Requirement already satisfied: beautifulsoup4 in c:\\users\\vinic\\anaconda3\\lib\\site-packages (from wikipedia) (4.11.1)\n",
      "Requirement already satisfied: requests<3.0.0,>=2.0.0 in c:\\users\\vinic\\anaconda3\\lib\\site-packages (from wikipedia) (2.27.1)\n",
      "Requirement already satisfied: charset-normalizer~=2.0.0 in c:\\users\\vinic\\anaconda3\\lib\\site-packages (from requests<3.0.0,>=2.0.0->wikipedia) (2.0.4)\n",
      "Requirement already satisfied: urllib3<1.27,>=1.21.1 in c:\\users\\vinic\\anaconda3\\lib\\site-packages (from requests<3.0.0,>=2.0.0->wikipedia) (1.26.9)\n",
      "Requirement already satisfied: certifi>=2017.4.17 in c:\\users\\vinic\\anaconda3\\lib\\site-packages (from requests<3.0.0,>=2.0.0->wikipedia) (2021.10.8)\n",
      "Requirement already satisfied: idna<4,>=2.5 in c:\\users\\vinic\\anaconda3\\lib\\site-packages (from requests<3.0.0,>=2.0.0->wikipedia) (3.3)\n",
      "Requirement already satisfied: soupsieve>1.2 in c:\\users\\vinic\\anaconda3\\lib\\site-packages (from beautifulsoup4->wikipedia) (2.3.1)\n",
      "Building wheels for collected packages: wikipedia\n",
      "  Building wheel for wikipedia (setup.py): started\n",
      "  Building wheel for wikipedia (setup.py): finished with status 'done'\n",
      "  Created wheel for wikipedia: filename=wikipedia-1.4.0-py3-none-any.whl size=11695 sha256=aa9cce8b9ff610357875b1cb89347cb9b00f508733afc0f8b0d2109a511e9b11\n",
      "  Stored in directory: c:\\users\\vinic\\appdata\\local\\pip\\cache\\wheels\\c2\\46\\f4\\caa1bee71096d7b0cdca2f2a2af45cacf35c5760bee8f00948\n",
      "Successfully built wikipedia\n",
      "Installing collected packages: wikipedia\n",
      "Successfully installed wikipedia-1.4.0\n",
      "Note: you may need to restart the kernel to use updated packages.\n"
     ]
    }
   ],
   "source": [
    "#pip install wikipedia"
   ]
  },
  {
   "cell_type": "code",
   "execution_count": 23,
   "id": "ae245b03",
   "metadata": {},
   "outputs": [
    {
     "name": "stdout",
     "output_type": "stream",
     "text": [
      "Collecting DateTime\n",
      "  Downloading DateTime-4.6-py2.py3-none-any.whl (52 kB)\n",
      "Requirement already satisfied: pytz in c:\\users\\vinic\\anaconda3\\lib\\site-packages (from DateTime) (2021.3)\n",
      "Requirement already satisfied: zope.interface in c:\\users\\vinic\\anaconda3\\lib\\site-packages (from DateTime) (5.4.0)\n",
      "Requirement already satisfied: setuptools in c:\\users\\vinic\\anaconda3\\lib\\site-packages (from zope.interface->DateTime) (61.2.0)\n",
      "Installing collected packages: DateTime\n",
      "Successfully installed DateTime-4.6\n",
      "Note: you may need to restart the kernel to use updated packages.\n"
     ]
    }
   ],
   "source": [
    "#pip install DateTime"
   ]
  },
  {
   "cell_type": "code",
   "execution_count": 3,
   "id": "42c53220",
   "metadata": {},
   "outputs": [],
   "source": [
    "import datetime\n",
    "import wikipedia"
   ]
  },
  {
   "cell_type": "code",
   "execution_count": 38,
   "id": "6ff0faf3",
   "metadata": {},
   "outputs": [
    {
     "name": "stdout",
     "output_type": "stream",
     "text": [
      "Collecting pywhatkit\n",
      "  Using cached pywhatkit-5.4-py3-none-any.whl (15 kB)\n",
      "Requirement already satisfied: Pillow in c:\\users\\vinic\\anaconda3\\lib\\site-packages (from pywhatkit) (9.0.1)\n",
      "Requirement already satisfied: wikipedia in c:\\users\\vinic\\anaconda3\\lib\\site-packages (from pywhatkit) (1.4.0)\n",
      "Requirement already satisfied: requests in c:\\users\\vinic\\anaconda3\\lib\\site-packages (from pywhatkit) (2.27.1)\n",
      "Requirement already satisfied: pyautogui in c:\\users\\vinic\\anaconda3\\lib\\site-packages (from pywhatkit) (0.9.53)\n",
      "Requirement already satisfied: Flask in c:\\users\\vinic\\anaconda3\\lib\\site-packages (from pywhatkit) (1.1.2)\n",
      "Requirement already satisfied: Werkzeug>=0.15 in c:\\users\\vinic\\anaconda3\\lib\\site-packages (from Flask->pywhatkit) (2.0.3)\n",
      "Requirement already satisfied: Jinja2>=2.10.1 in c:\\users\\vinic\\anaconda3\\lib\\site-packages (from Flask->pywhatkit) (2.11.3)\n",
      "Requirement already satisfied: itsdangerous>=0.24 in c:\\users\\vinic\\anaconda3\\lib\\site-packages (from Flask->pywhatkit) (2.0.1)\n",
      "Requirement already satisfied: click>=5.1 in c:\\users\\vinic\\anaconda3\\lib\\site-packages (from Flask->pywhatkit) (8.0.4)\n",
      "Requirement already satisfied: colorama in c:\\users\\vinic\\anaconda3\\lib\\site-packages (from click>=5.1->Flask->pywhatkit) (0.4.4)\n",
      "Requirement already satisfied: MarkupSafe>=0.23 in c:\\users\\vinic\\anaconda3\\lib\\site-packages (from Jinja2>=2.10.1->Flask->pywhatkit) (2.0.1)\n",
      "Requirement already satisfied: pygetwindow>=0.0.5 in c:\\users\\vinic\\anaconda3\\lib\\site-packages (from pyautogui->pywhatkit) (0.0.9)\n",
      "Requirement already satisfied: mouseinfo in c:\\users\\vinic\\anaconda3\\lib\\site-packages (from pyautogui->pywhatkit) (0.1.3)\n",
      "Requirement already satisfied: pymsgbox in c:\\users\\vinic\\anaconda3\\lib\\site-packages (from pyautogui->pywhatkit) (1.0.9)\n",
      "Requirement already satisfied: PyTweening>=1.0.1 in c:\\users\\vinic\\anaconda3\\lib\\site-packages (from pyautogui->pywhatkit) (1.0.4)\n",
      "Requirement already satisfied: pyscreeze>=0.1.21 in c:\\users\\vinic\\anaconda3\\lib\\site-packages (from pyautogui->pywhatkit) (0.1.28)\n",
      "Requirement already satisfied: pyrect in c:\\users\\vinic\\anaconda3\\lib\\site-packages (from pygetwindow>=0.0.5->pyautogui->pywhatkit) (0.2.0)\n",
      "Requirement already satisfied: pyperclip in c:\\users\\vinic\\anaconda3\\lib\\site-packages (from mouseinfo->pyautogui->pywhatkit) (1.8.2)\n",
      "Requirement already satisfied: idna<4,>=2.5 in c:\\users\\vinic\\anaconda3\\lib\\site-packages (from requests->pywhatkit) (3.3)\n",
      "Requirement already satisfied: certifi>=2017.4.17 in c:\\users\\vinic\\anaconda3\\lib\\site-packages (from requests->pywhatkit) (2021.10.8)\n",
      "Requirement already satisfied: charset-normalizer~=2.0.0 in c:\\users\\vinic\\anaconda3\\lib\\site-packages (from requests->pywhatkit) (2.0.4)\n",
      "Requirement already satisfied: urllib3<1.27,>=1.21.1 in c:\\users\\vinic\\anaconda3\\lib\\site-packages (from requests->pywhatkit) (1.26.9)\n",
      "Requirement already satisfied: beautifulsoup4 in c:\\users\\vinic\\anaconda3\\lib\\site-packages (from wikipedia->pywhatkit) (4.11.1)\n",
      "Requirement already satisfied: soupsieve>1.2 in c:\\users\\vinic\\anaconda3\\lib\\site-packages (from beautifulsoup4->wikipedia->pywhatkit) (2.3.1)\n",
      "Installing collected packages: pywhatkit\n",
      "Successfully installed pywhatkit-5.4\n",
      "Note: you may need to restart the kernel to use updated packages.\n"
     ]
    }
   ],
   "source": [
    "#bliblioteca para whats e youtube\n",
    "#pip install pywhatkit"
   ]
  },
  {
   "cell_type": "code",
   "execution_count": 4,
   "id": "316e5c31",
   "metadata": {},
   "outputs": [],
   "source": [
    "import pywhatkit"
   ]
  },
  {
   "cell_type": "code",
   "execution_count": 7,
   "id": "94464500",
   "metadata": {},
   "outputs": [
    {
     "name": "stdout",
     "output_type": "stream",
     "text": [
      "Ouvindo..\n"
     ]
    }
   ],
   "source": [
    "audio = sr.Recognizer()\n",
    "maquina = pyttsx3.init()\n",
    "\n",
    "def executa_comando():\n",
    "    try:\n",
    "        with sr.Microphone() as source:\n",
    "            print('Ouvindo..')\n",
    "            voz = audio.listen(source)\n",
    "            comando = audio.recognize_google(voz, language='pt-BR')\n",
    "            comando = comando.lower()\n",
    "            if 'jarvis' in comando:\n",
    "                comando = comando.replace('jarvis', '')\n",
    "                maquina.say(comando)\n",
    "                maquina.runAndWait()\n",
    "\n",
    "    except:\n",
    "        print('Microfone não está ok')\n",
    "\n",
    "    return comando\n",
    "\n",
    "def comando_voz_usuario():\n",
    "        \n",
    "    comando = executa_comando()\n",
    "    if 'horas' in comando:\n",
    "        hora = datetime.datetime.now().strftime('%H:%M')\n",
    "        maquina.say('Agora são' + hora)\n",
    "        maquina.runAndWait()\n",
    "    elif 'pesquise por' in comando:\n",
    "        procurar = comando.replace('pesquise por', '')\n",
    "        wikipedia.set_lang('pt')\n",
    "        resultado = wikipedia.summary(procurar,2)\n",
    "        print(resultado)\n",
    "        maquina.say(resultado)\n",
    "        maquina.runAndWait()\n",
    "    elif 'toque' in comando:\n",
    "        musica = comando.replace('toque','')\n",
    "        resultado = pywhatkit.playonyt(musica)\n",
    "        maquina.say('Tocando música')\n",
    "        maquina.runAndWait()\n",
    "        \n",
    "    elif \"whatsapp\" in comando :\n",
    "        fala = comando.replace('whatsapp','')\n",
    "        zap = pywhatkit.sendwhatmsg(\"+5511988246363\",fala, 21, 36)\n",
    "        maquina.say('Enviando mensagem')\n",
    "        maquina.runAndWait()\n",
    "\n",
    "\n",
    "comando_voz_usuario()"
   ]
  },
  {
   "cell_type": "code",
   "execution_count": null,
   "id": "3ca04720",
   "metadata": {},
   "outputs": [],
   "source": []
  }
 ],
 "metadata": {
  "kernelspec": {
   "display_name": "Python 3 (ipykernel)",
   "language": "python",
   "name": "python3"
  },
  "language_info": {
   "codemirror_mode": {
    "name": "ipython",
    "version": 3
   },
   "file_extension": ".py",
   "mimetype": "text/x-python",
   "name": "python",
   "nbconvert_exporter": "python",
   "pygments_lexer": "ipython3",
   "version": "3.9.12"
  }
 },
 "nbformat": 4,
 "nbformat_minor": 5
}
